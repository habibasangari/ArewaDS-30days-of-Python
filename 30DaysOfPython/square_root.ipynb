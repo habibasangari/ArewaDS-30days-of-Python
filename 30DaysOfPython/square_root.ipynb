{
 "cells": [
  {
   "cell_type": "markdown",
   "metadata": {},
   "source": [
    "In this program, the math.sqrt() function is used to find the square root of the given number. The program checks if the input number is non-negative before calculating the square root, as the square root of a negative number is undefined in the real number system."
   ]
  },
  {
   "cell_type": "code",
   "execution_count": null,
   "metadata": {},
   "outputs": [],
   "source": [
    "import math\n",
    "\n",
    "def find_square_root(number):\n",
    "    # Check if the number is non-negative\n",
    "    if number >= 0:\n",
    "        # Calculate the square root\n",
    "        square_root = math.sqrt(number)\n",
    "        return square_root\n",
    "    else:\n",
    "        return \"Cannot find the square root of a negative number.\"\n",
    "\n",
    "# Example usage\n",
    "user_input = float(input(\"Enter a number to find its square root: \"))\n",
    "result = find_square_root(user_input)\n",
    "\n",
    "print(f\"The square root of {user_input} is: {result}\")\n"
   ]
  }
 ],
 "metadata": {
  "language_info": {
   "name": "python"
  }
 },
 "nbformat": 4,
 "nbformat_minor": 2
}
