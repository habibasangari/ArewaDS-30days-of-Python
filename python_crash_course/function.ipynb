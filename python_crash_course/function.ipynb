{
 "cells": [
  {
   "cell_type": "markdown",
   "metadata": {},
   "source": [
    "8.1 write a function  called display_message() that prints one sentence telling everyone that you are learning about  a chapter. call the function, and display the massage correctly."
   ]
  },
  {
   "cell_type": "code",
   "execution_count": null,
   "metadata": {},
   "outputs": [],
   "source": [
    "def display_message():\n",
    "    '''Tells what i am learning'''\n",
    "    print(\"I am currently learning chapter called funtion.\")\n",
    "\n",
    "# Call the function to display the message\n",
    "display_message()\n"
   ]
  },
  {
   "cell_type": "markdown",
   "metadata": {},
   "source": [
    "8.2  Write a function called favorite_book() that accepts one\n",
    "parameter, title. The function should print a message, such as One of my\n",
    "favorite books is Alice in Wonderland. Call the function, making sure to\n",
    "include a book title as an argument in the function call.\n"
   ]
  },
  {
   "cell_type": "code",
   "execution_count": null,
   "metadata": {},
   "outputs": [],
   "source": [
    "def favorite_book(title):\n",
    "    '''Tells my favorite book'''\n",
    "    print(f\"One of my favorite books is {title}.\")\n",
    "\n",
    "# Call the function with a specific book title\n",
    "favorite_book(\"Alice in Wonderland\")\n"
   ]
  },
  {
   "cell_type": "markdown",
   "metadata": {},
   "source": [
    "8.3 Write a function called make_shirt() that accepts a size and the\n",
    "text of a message that should be printed on the shirt. The function should print a\n",
    "sentence summarizing the size of the shirt and the message printed on it.\n",
    "Call the function once using positional arguments to make a shirt. Call the\n",
    "function a second time using keyword arguments."
   ]
  },
  {
   "cell_type": "code",
   "execution_count": null,
   "metadata": {},
   "outputs": [],
   "source": [
    "def make_shirt(size, message):\n",
    "    '''T-shirt sizes with messages'''\n",
    "    print(f\"A {size}-sized shirt will be printed with the message: '{message}'.\")\n",
    "\n",
    "# Call the function with positional arguments\n",
    "make_shirt(\"Medium\", \"Hello World!\")\n",
    "\n",
    "# Call the function with keyword arguments\n",
    "make_shirt(size=\"Large\", message=\"Python Developer\")\n"
   ]
  },
  {
   "cell_type": "markdown",
   "metadata": {},
   "source": [
    "8.4  Modify the make_shirt() function so that shirts are large\n",
    "by default with a message that reads I love Python. Make a large shirt and a\n",
    "medium shirt with the default message, and a shirt of any size with a different\n",
    "message"
   ]
  },
  {
   "cell_type": "code",
   "execution_count": null,
   "metadata": {},
   "outputs": [],
   "source": [
    "def make_shirt(size=\"Large\", message=\"I love Python\"):\n",
    "    '''Large/medium shirt i love python'''\n",
    "    '''Other size, python is awesome'''\n",
    "    print(f\"A {size}-sized shirt will be printed with the message: '{message}'.\")\n",
    "\n",
    "# Make a large shirt with the default message\n",
    "make_shirt()\n",
    "\n",
    "# Make a medium shirt with the default message\n",
    "make_shirt(size=\"Medium\")\n",
    "\n",
    "# Make a shirt of any size with a different message\n",
    "make_shirt(size=\"Small\", message=\"Python is Awesome!\")\n"
   ]
  },
  {
   "cell_type": "markdown",
   "metadata": {},
   "source": [
    "8.5  Write a function called describe_city() that accepts the name of\n",
    "a city and its country. The function should print a simple sentence, such as\n",
    "Reykjavik is in Iceland. Give the parameter for the country a default value.\n",
    "Call your function for three different cities, at least one of which is not in the\n",
    "default country"
   ]
  },
  {
   "cell_type": "code",
   "execution_count": null,
   "metadata": {},
   "outputs": [],
   "source": [
    "def describe_city(city, country=\"Default Country\"):\n",
    "    '''displays a sentence, a city is in a country'''\n",
    "    print(f\"{city} is in {country}.\")\n",
    "\n",
    "# Call the function for three different cities\n",
    "describe_city(\"Reykjavik\", \"Iceland\")\n",
    "describe_city(\"Paris\", \"France\")\n",
    "describe_city(\"Tokyo\")  # Using the default country\n"
   ]
  },
  {
   "cell_type": "markdown",
   "metadata": {},
   "source": [
    "8.6  Write a function called city_country() that takes in the name\n",
    "of a city and its country. The function should return a string formatted like this:\n",
    "\"Santiago, Chile\"\n",
    "Call your function with at least three city-country pairs, and print the values\n",
    "that are returned."
   ]
  },
  {
   "cell_type": "code",
   "execution_count": null,
   "metadata": {},
   "outputs": [
    {
     "name": "stdout",
     "output_type": "stream",
     "text": [
      "Abuja, Nigeria\n",
      "Tokyo, Japan\n",
      "Paris, France\n"
     ]
    }
   ],
   "source": [
    "def city_country(city, country):\n",
    "    ''' city,country '''\n",
    "    return f\"{city}, {country}\"\n",
    "\n",
    "# Call the function with three city-country pairs and print the results\n",
    "result1 = city_country(\"Abuja\", \"Nigeria\")\n",
    "result2 = city_country(\"Tokyo\", \"Japan\")\n",
    "result3 = city_country(\"Paris\", \"France\")\n",
    "\n",
    "print(result1)\n",
    "print(result2)\n",
    "print(result3)\n"
   ]
  },
  {
   "cell_type": "markdown",
   "metadata": {},
   "source": [
    "8.7  Write a function called make_album() that builds a dictionary\n",
    "describing a music album. The function should take in an artist name and an\n",
    "album title, and it should return a dictionary containing these two pieces of\n",
    "information. Use the function to make three dictionaries representing different\n",
    "albums. Print each return value to show that the dictionaries are storing the\n",
    "album information correctly.\n",
    "Use None to add an optional parameter to make_album() that allows you to\n",
    "store the number of songs on an album. If the calling line includes a value for\n",
    "the number of songs, add that value to the album’s dictionary. Make at least\n",
    "one new function call that includes the number of songs on an album."
   ]
  },
  {
   "cell_type": "code",
   "execution_count": null,
   "metadata": {},
   "outputs": [
    {
     "name": "stdout",
     "output_type": "stream",
     "text": [
      "{'artist': 'Artist1', 'title': 'Album1'}\n",
      "{'artist': 'Artist2', 'title': 'Album2', 'num_songs': 12}\n",
      "{'artist': 'Artist3', 'title': 'Album3'}\n"
     ]
    }
   ],
   "source": [
    "def make_album(artist, title, num_songs=None):\n",
    "    album_dict = {'artist': artist, 'title': title}\n",
    "    if num_songs is not None:\n",
    "        album_dict['num_songs'] = num_songs\n",
    "    return album_dict\n",
    "\n",
    "# Make three dictionaries representing different albums\n",
    "album1 = make_album(\"Artist1\", \"Album1\")\n",
    "album2 = make_album(\"Artist2\", \"Album2\", num_songs=12)\n",
    "album3 = make_album(\"Artist3\", \"Album3\")\n",
    "\n",
    "# Print each return value to show the stored album information\n",
    "print(album1)\n",
    "print(album2)\n",
    "print(album3)\n"
   ]
  },
  {
   "cell_type": "markdown",
   "metadata": {},
   "source": [
    "8.8  Start with your program from Exercise 8-7. Write a while\n",
    "loop that allows users to enter an album’s artist and title. Once you have that\n",
    "information, call make_album() with the user’s input and print the dictionary\n",
    "that’s created. Be sure to include a quit value in the while loop."
   ]
  },
  {
   "cell_type": "code",
   "execution_count": 38,
   "metadata": {},
   "outputs": [],
   "source": [
    "def make_album(artist, title, num_songs=None):\n",
    "    album_dict = {'artist': artist, 'title': title}\n",
    "    if num_songs is not None:\n",
    "        album_dict['num_songs'] = num_songs\n",
    "    return album_dict\n",
    "\n",
    "while True:\n",
    "    # Get user input for artist and title\n",
    "    artist_input = input(\"Enter the artist's name (or 'q' to exit): \")\n",
    "    \n",
    "    # Check if the user wants to quit\n",
    "    if artist_input.lower() == 'q':\n",
    "        break\n",
    "    \n",
    "    title_input = input(\"Enter the album title: \")\n",
    "\n",
    "    # Get user input for the number of songs (optional)\n",
    "    num_songs_input = input(\"Enter the number of songs (press Enter to skip): \")\n",
    "    \n",
    "    num_songs = int(num_songs_input) if num_songs_input.strip() else None\n",
    "    \n",
    "    album_info = make_album(artist_input, title_input, num_songs)\n",
    "    print(album_info)\n"
   ]
  },
  {
   "cell_type": "markdown",
   "metadata": {},
   "source": [
    "8.9  Make a list containing a series of short text messages. Pass the\n",
    "list to a function called show_messages(), which prints each text message."
   ]
  },
  {
   "cell_type": "code",
   "execution_count": 39,
   "metadata": {},
   "outputs": [
    {
     "name": "stdout",
     "output_type": "stream",
     "text": [
      "Hello!\n",
      "How are you?\n",
      "Python is fun!\n",
      "Coding is awesome!\n",
      "Have a great day!\n"
     ]
    }
   ],
   "source": [
    "def show_messages(messages):\n",
    "    for message in messages:\n",
    "        print(message)\n",
    "\n",
    "# Creating a list of short text messages\n",
    "text_messages = [\n",
    "    \"Hello!\",\n",
    "    \"How are you?\",\n",
    "    \"Python is fun!\",\n",
    "    \"Coding is awesome!\",\n",
    "    \"Have a great day!\"\n",
    "]\n",
    "\n",
    "# Calling the function to show the messages\n",
    "show_messages(text_messages)\n"
   ]
  },
  {
   "cell_type": "markdown",
   "metadata": {},
   "source": [
    "8.10 Start with a copy of your program from Exercise 8-9.\n",
    "Write a function called send_messages() that prints each text message and\n",
    "moves each message to a new list called sent_messages as it’s printed. After\n",
    "calling the function, print both of your lists to make sure the messages were\n",
    "moved correctly"
   ]
  },
  {
   "cell_type": "code",
   "execution_count": 40,
   "metadata": {},
   "outputs": [
    {
     "name": "stdout",
     "output_type": "stream",
     "text": [
      "Sending message: Hello!\n",
      "Sending message: How are you?\n",
      "Sending message: Python is fun!\n",
      "Sending message: Coding is awesome!\n",
      "Sending message: Have a great day!\n",
      "Original messages:\n",
      "\n",
      "Sent messages:\n",
      "Hello!\n",
      "How are you?\n",
      "Python is fun!\n",
      "Coding is awesome!\n",
      "Have a great day!\n"
     ]
    }
   ],
   "source": [
    "def show_messages(messages):\n",
    "    for message in messages:\n",
    "        print(message)\n",
    "\n",
    "def send_messages(messages, sent_messages):\n",
    "    while messages:\n",
    "        current_message = messages.pop(0)\n",
    "        print(f\"Sending message: {current_message}\")\n",
    "        sent_messages.append(current_message)\n",
    "\n",
    "# Creating a list of short text messages\n",
    "text_messages = [\n",
    "    \"Hello!\",\n",
    "    \"How are you?\",\n",
    "    \"Python is fun!\",\n",
    "    \"Coding is awesome!\",\n",
    "    \"Have a great day!\"\n",
    "]\n",
    "\n",
    "# Creating an empty list for sent messages\n",
    "sent_messages = []\n",
    "\n",
    "# Calling the function to send and print messages\n",
    "send_messages(text_messages, sent_messages)\n",
    "\n",
    "# Printing both lists to verify the messages were moved correctly\n",
    "print(\"Original messages:\")\n",
    "show_messages(text_messages)\n",
    "\n",
    "print(\"\\nSent messages:\")\n",
    "show_messages(sent_messages)\n"
   ]
  },
  {
   "cell_type": "markdown",
   "metadata": {},
   "source": [
    "8.11  Start with your work from Exercise 8-10. Call the function send_messages() with a copy of the list of messages. After calling the function, print both of your lists to show that the original list has retained its messages"
   ]
  },
  {
   "cell_type": "code",
   "execution_count": 41,
   "metadata": {},
   "outputs": [
    {
     "name": "stdout",
     "output_type": "stream",
     "text": [
      "Sending message: Hello!\n",
      "Sending message: How are you?\n",
      "Sending message: Python is fun!\n",
      "Sending message: Coding is awesome!\n",
      "Sending message: Have a great day!\n",
      "Original messages:\n",
      "Hello!\n",
      "How are you?\n",
      "Python is fun!\n",
      "Coding is awesome!\n",
      "Have a great day!\n",
      "\n",
      "Sent messages:\n",
      "Hello!\n",
      "How are you?\n",
      "Python is fun!\n",
      "Coding is awesome!\n",
      "Have a great day!\n"
     ]
    }
   ],
   "source": [
    "def show_messages(messages):\n",
    "    for message in messages:\n",
    "        print(message)\n",
    "\n",
    "def send_messages(messages, sent_messages):\n",
    "    while messages:\n",
    "        current_message = messages.pop(0)\n",
    "        print(f\"Sending message: {current_message}\")\n",
    "        sent_messages.append(current_message)\n",
    "\n",
    "# Creating a list of short text messages\n",
    "text_messages = [\n",
    "    \"Hello!\",\n",
    "    \"How are you?\",\n",
    "    \"Python is fun!\",\n",
    "    \"Coding is awesome!\",\n",
    "    \"Have a great day!\"\n",
    "]\n",
    "\n",
    "# Creating a copy of the list for sending messages\n",
    "text_messages_copy = text_messages.copy()\n",
    "\n",
    "# Creating an empty list for sent messages\n",
    "sent_messages = []\n",
    "\n",
    "# Calling the function to send and print messages\n",
    "send_messages(text_messages_copy, sent_messages)\n",
    "\n",
    "# Printing both lists to show that the original list has retained its messages\n",
    "print(\"Original messages:\")\n",
    "show_messages(text_messages)\n",
    "\n",
    "print(\"\\nSent messages:\")\n",
    "show_messages(sent_messages)\n"
   ]
  },
  {
   "cell_type": "markdown",
   "metadata": {},
   "source": [
    "8.12  Write a function that accepts a list of items a person wants\n",
    "on a sandwich. The function should have one parameter that collects as many\n",
    "items as the function call provides, and it should print a summary of the sandwich that’s being ordered. Call the function three times, using a different number of arguments each time."
   ]
  },
  {
   "cell_type": "code",
   "execution_count": 42,
   "metadata": {},
   "outputs": [
    {
     "name": "stdout",
     "output_type": "stream",
     "text": [
      "Making a sandwich with the following toppings:\n",
      "- Ham\n",
      "- Cheese\n",
      "- Lettuce\n",
      "Sandwich is ready!\n",
      "\n",
      "Making a sandwich with the following toppings:\n",
      "- Turkey\n",
      "- Tomato\n",
      "Sandwich is ready!\n",
      "\n",
      "Making a sandwich with the following toppings:\n",
      "- Peanut Butter\n",
      "- Jelly\n",
      "Sandwich is ready!\n",
      "\n"
     ]
    }
   ],
   "source": [
    "def make_sandwich(*toppings):\n",
    "    print(\"Making a sandwich with the following toppings:\")\n",
    "    for topping in toppings:\n",
    "        print(f\"- {topping}\")\n",
    "    print(\"Sandwich is ready!\\n\")\n",
    "\n",
    "# Call the function three times with different numbers of arguments\n",
    "make_sandwich(\"Ham\", \"Cheese\", \"Lettuce\")\n",
    "make_sandwich(\"Turkey\", \"Tomato\")\n",
    "make_sandwich(\"Peanut Butter\", \"Jelly\")\n"
   ]
  },
  {
   "cell_type": "markdown",
   "metadata": {},
   "source": [
    "8.13   Start with a copy of user_profile.py from page 148. Build a\n",
    "profile of yourself by calling build_profile(), using your first and last names\n",
    "and three other key-value pairs that describe you.\n"
   ]
  },
  {
   "cell_type": "code",
   "execution_count": 43,
   "metadata": {},
   "outputs": [
    {
     "name": "stdout",
     "output_type": "stream",
     "text": [
      "{'first_name': 'Habiba', 'last_name': 'Sangari', 'age': 29, 'occupation': 'Data Analyst', 'hobbies': ['Reading', 'Coding', 'Traveling']}\n"
     ]
    }
   ],
   "source": [
    "def build_profile(first_name, last_name, **additional_info):\n",
    "    profile = {\n",
    "        'first_name': first_name,\n",
    "        'last_name': last_name,\n",
    "    }\n",
    "    profile.update(additional_info)\n",
    "    return profile\n",
    "\n",
    "# Create a profile of yourself\n",
    "my_profile = build_profile(\n",
    "    first_name='Habiba',\n",
    "    last_name='Sangari',\n",
    "    age=29,\n",
    "    occupation='Data Analyst',\n",
    "    hobbies=['Reading', 'Coding', 'Traveling']\n",
    ")\n",
    "\n",
    "# Print the profile\n",
    "print(my_profile)\n"
   ]
  },
  {
   "cell_type": "markdown",
   "metadata": {},
   "source": [
    "8.14  Write a function that stores information about a car in a dictionary. The function should always receive a manufacturer and a model name. It \n",
    "should then accept an arbitrary number of keyword arguments. Call the function with the required information and two other name-value pairs, such as a \n",
    "color or an optional feature. Your function should work for a call like this one:\n",
    "car = make_car('subaru', 'outback', color='blue', tow_package=True)\n",
    "Print the dictionary that’s returned to make sure all the information was \n",
    "stored correctly."
   ]
  },
  {
   "cell_type": "code",
   "execution_count": 44,
   "metadata": {},
   "outputs": [
    {
     "name": "stdout",
     "output_type": "stream",
     "text": [
      "{'manufacturer': 'honda', 'model': 'outback', 'color': 'grey', 'tow_package': True}\n"
     ]
    }
   ],
   "source": [
    "def make_car(manufacturer, model, **kwargs):\n",
    "    car_info = {\n",
    "        'manufacturer': manufacturer,\n",
    "        'model': model\n",
    "    }\n",
    "    \n",
    "    # Add additional key-value pairs from keyword arguments\n",
    "    car_info.update(kwargs)\n",
    "    \n",
    "    return car_info\n",
    "\n",
    "# Example usage\n",
    "car = make_car('honda', 'outback', color='grey', tow_package=True)\n",
    "\n",
    "# Print the dictionary\n",
    "print(car)\n"
   ]
  },
  {
   "cell_type": "markdown",
   "metadata": {},
   "source": [
    "8.15  Put the functions for the example printing_models.py in a \n",
    "separate file called printing_functions.py. Write an import statement at the top \n",
    "of printing_models.py, and modify the file to use the imported functions."
   ]
  },
  {
   "cell_type": "code",
   "execution_count": 45,
   "metadata": {},
   "outputs": [],
   "source": [
    "''' Printing_models.py and printing_functions.py has been written and an import statement was written and \n",
    "done with the file modified as suggested. They all .py files within the folder'''\n",
    "import printing_functions\n",
    "from printing_functions import out_list\n",
    "list = ['Ty', 'joe', 'doe', 'harry', 'troy']\n",
    "print(out_list(list))\n"
   ]
  },
  {
   "cell_type": "code",
   "execution_count": null,
   "metadata": {},
   "outputs": [],
   "source": [
    "import printing_functions\n",
    "from printing_functions import out_list\n",
    "from printing_functions import out_list as ol\n",
    "import printing_functions as pf\n",
    "from printing_functions import *"
   ]
  }
 ],
 "metadata": {
  "kernelspec": {
   "display_name": "Python 3",
   "language": "python",
   "name": "python3"
  },
  "language_info": {
   "codemirror_mode": {
    "name": "ipython",
    "version": 3
   },
   "file_extension": ".py",
   "mimetype": "text/x-python",
   "name": "python",
   "nbconvert_exporter": "python",
   "pygments_lexer": "ipython3",
   "version": "3.11.1"
  }
 },
 "nbformat": 4,
 "nbformat_minor": 2
}
